{
 "cells": [
  {
   "cell_type": "code",
   "execution_count": 28,
   "metadata": {},
   "outputs": [],
   "source": [
    "import json\n",
    "from pathlib import Path"
   ]
  },
  {
   "cell_type": "code",
   "execution_count": 29,
   "metadata": {},
   "outputs": [],
   "source": [
    "data_dir = Path('/Users/thomas/Documents/data/football')\n",
    "statsbomb_dir = data_dir.joinpath('open-data/data')"
   ]
  },
  {
   "cell_type": "code",
   "execution_count": 30,
   "metadata": {},
   "outputs": [],
   "source": [
    "competition_id = 72"
   ]
  },
  {
   "cell_type": "code",
   "execution_count": 31,
   "metadata": {},
   "outputs": [],
   "source": [
    "competitions_file = statsbomb_dir.joinpath('competitions.json')\n",
    "\n",
    "with open(competitions_file, 'rb') as f:\n",
    "    competitions = json.load(f)"
   ]
  },
  {
   "cell_type": "code",
   "execution_count": 32,
   "metadata": {},
   "outputs": [],
   "source": [
    "matches_dir = statsbomb_dir.joinpath(f'matches/{competition_id}/30.json')\n",
    "with open(matches_dir) as f:\n",
    "    matches = json.load(f)"
   ]
  },
  {
   "cell_type": "code",
   "execution_count": 33,
   "metadata": {},
   "outputs": [
    {
     "data": {
      "text/plain": [
       "{'match_id': 68311,\n",
       " 'match_date': '2019-06-18',\n",
       " 'kick_off': '21:00:00.000',\n",
       " 'competition': {'competition_id': 72,\n",
       "  'country_name': 'International',\n",
       "  'competition_name': \"Women's World Cup\"},\n",
       " 'season': {'season_id': 30, 'season_name': '2019'},\n",
       " 'home_team': {'home_team_id': 1212,\n",
       "  'home_team_name': \"Jamaica Women's\",\n",
       "  'home_team_gender': 'female',\n",
       "  'home_team_group': 'Group C',\n",
       "  'country': {'id': 113, 'name': 'Jamaica'},\n",
       "  'managers': [{'id': 4243,\n",
       "    'name': 'Hue Menzies',\n",
       "    'nickname': None,\n",
       "    'dob': None,\n",
       "    'country': {'id': 113, 'name': 'Jamaica'}}]},\n",
       " 'away_team': {'away_team_id': 1205,\n",
       "  'away_team_name': \"Australia Women's\",\n",
       "  'away_team_gender': 'female',\n",
       "  'away_team_group': 'Group C',\n",
       "  'country': {'id': 14, 'name': 'Australia'},\n",
       "  'managers': [{'id': 3541,\n",
       "    'name': 'Ante Milicic',\n",
       "    'nickname': None,\n",
       "    'dob': '1974-04-04',\n",
       "    'country': {'id': 14, 'name': 'Australia'}}]},\n",
       " 'home_score': 1,\n",
       " 'away_score': 4,\n",
       " 'match_status': 'available',\n",
       " 'match_status_360': 'scheduled',\n",
       " 'last_updated': '2020-07-29T05:00',\n",
       " 'last_updated_360': '2021-06-13T16:17:31.694',\n",
       " 'metadata': {'data_version': '1.1.0',\n",
       "  'shot_fidelity_version': '2',\n",
       "  'xy_fidelity_version': '2'},\n",
       " 'match_week': 3,\n",
       " 'competition_stage': {'id': 1, 'name': 'Regular Season'},\n",
       " 'stadium': {'id': 455,\n",
       "  'name': 'Stade des Alpes',\n",
       "  'country': {'id': 78, 'name': 'France'}},\n",
       " 'referee': {'id': 721,\n",
       "  'name': 'Katalin Kulcsar',\n",
       "  'country': {'id': 103, 'name': 'Hungary'}}}"
      ]
     },
     "execution_count": 33,
     "metadata": {},
     "output_type": "execute_result"
    }
   ],
   "source": [
    "matches[0]\n"
   ]
  },
  {
   "cell_type": "code",
   "execution_count": 34,
   "metadata": {},
   "outputs": [
    {
     "data": {
      "text/plain": [
       "{'home_team_id': 1212,\n",
       " 'home_team_name': \"Jamaica Women's\",\n",
       " 'home_team_gender': 'female',\n",
       " 'home_team_group': 'Group C',\n",
       " 'country': {'id': 113, 'name': 'Jamaica'},\n",
       " 'managers': [{'id': 4243,\n",
       "   'name': 'Hue Menzies',\n",
       "   'nickname': None,\n",
       "   'dob': None,\n",
       "   'country': {'id': 113, 'name': 'Jamaica'}}]}"
      ]
     },
     "execution_count": 34,
     "metadata": {},
     "output_type": "execute_result"
    }
   ],
   "source": [
    "matches[0]['home_team']\n"
   ]
  },
  {
   "cell_type": "code",
   "execution_count": 35,
   "metadata": {},
   "outputs": [
    {
     "data": {
      "text/plain": [
       "\"Jamaica Women's\""
      ]
     },
     "execution_count": 35,
     "metadata": {},
     "output_type": "execute_result"
    }
   ],
   "source": [
    "matches[0]['home_team']['home_team_name']\n"
   ]
  },
  {
   "cell_type": "code",
   "execution_count": 36,
   "metadata": {},
   "outputs": [
    {
     "data": {
      "text/plain": [
       "\"Australia Women's\""
      ]
     },
     "execution_count": 36,
     "metadata": {},
     "output_type": "execute_result"
    }
   ],
   "source": [
    "matches[0]['away_team']['away_team_name']"
   ]
  },
  {
   "cell_type": "code",
   "execution_count": 37,
   "metadata": {},
   "outputs": [
    {
     "name": "stdout",
     "output_type": "stream",
     "text": [
      "The match between Jamaica Women's and Australia Women's finished 1 : 4\n",
      "The match between Norway Women's and Australia Women's finished 1 : 1\n",
      "The match between Australia Women's and Italy Women's finished 1 : 2\n",
      "The match between Argentina Women's and Japan Women's finished 0 : 0\n",
      "The match between United States Women's and Thailand Women's finished 13 : 0\n",
      "The match between Chile Women's and Sweden Women's finished 0 : 2\n",
      "The match between Nigeria Women's and Korea Republic Women's finished 2 : 0\n",
      "The match between Germany Women's and Spain Women's finished 1 : 0\n",
      "The match between South Africa Women's and China PR Women's finished 0 : 1\n",
      "The match between Jamaica Women's and Italy Women's finished 0 : 5\n",
      "The match between Japan Women's and Scotland Women's finished 2 : 1\n",
      "The match between Netherlands Women's and Cameroon Women's finished 3 : 1\n",
      "The match between Canada Women's and New Zealand Women's finished 2 : 0\n",
      "The match between Netherlands Women's and Canada Women's finished 2 : 1\n",
      "The match between Sweden Women's and United States Women's finished 0 : 2\n",
      "The match between Sweden Women's and Canada Women's finished 1 : 0\n",
      "The match between Cameroon Women's and New Zealand Women's finished 2 : 1\n",
      "The match between Germany Women's and Nigeria Women's finished 3 : 0\n",
      "The match between England Women's and Sweden Women's finished 1 : 2\n",
      "The match between France Women's and Brazil Women's finished 2 : 1\n",
      "The match between Germany Women's and Sweden Women's finished 1 : 2\n",
      "The match between England Women's and Scotland Women's finished 2 : 1\n",
      "The match between Sweden Women's and Thailand Women's finished 5 : 1\n",
      "The match between Japan Women's and England Women's finished 0 : 2\n",
      "The match between Korea Republic Women's and Norway Women's finished 1 : 2\n",
      "The match between United States Women's and Chile Women's finished 3 : 0\n",
      "The match between Norway Women's and Nigeria Women's finished 3 : 0\n",
      "The match between United States Women's and Netherlands Women's finished 2 : 0\n",
      "The match between China PR Women's and Spain Women's finished 0 : 0\n",
      "The match between Italy Women's and Brazil Women's finished 0 : 1\n",
      "The match between France Women's and Korea Republic Women's finished 4 : 0\n",
      "The match between Germany Women's and China PR Women's finished 1 : 0\n",
      "The match between Spain Women's and South Africa Women's finished 3 : 1\n",
      "The match between Brazil Women's and Jamaica Women's finished 3 : 0\n",
      "The match between Canada Women's and Cameroon Women's finished 1 : 0\n",
      "The match between France Women's and United States Women's finished 1 : 2\n",
      "The match between New Zealand Women's and Netherlands Women's finished 0 : 1\n",
      "The match between France Women's and Norway Women's finished 2 : 1\n",
      "The match between Australia Women's and Brazil Women's finished 3 : 2\n",
      "The match between England Women's and Argentina Women's finished 1 : 0\n",
      "The match between Nigeria Women's and France Women's finished 0 : 1\n",
      "The match between South Africa Women's and Germany Women's finished 0 : 4\n",
      "The match between Scotland Women's and Argentina Women's finished 3 : 3\n",
      "The match between Thailand Women's and Chile Women's finished 0 : 2\n",
      "The match between England Women's and Cameroon Women's finished 3 : 0\n",
      "The match between Italy Women's and China PR Women's finished 2 : 0\n",
      "The match between Netherlands Women's and Japan Women's finished 2 : 1\n",
      "The match between Norway Women's and England Women's finished 0 : 3\n",
      "The match between England Women's and United States Women's finished 1 : 2\n",
      "The match between Netherlands Women's and Sweden Women's finished 1 : 0\n",
      "The match between Italy Women's and Netherlands Women's finished 0 : 2\n",
      "The match between Spain Women's and United States Women's finished 1 : 2\n"
     ]
    }
   ],
   "source": [
    "for match in matches:\n",
    "    home_team_name=match['home_team']['home_team_name']\n",
    "    away_team_name=match['away_team']['away_team_name']\n",
    "    home_score=match['home_score']\n",
    "    away_score=match['away_score']\n",
    "    describe_text = 'The match between ' + home_team_name + ' and ' + away_team_name\n",
    "    result_text = ' finished ' + str(home_score) +  ' : ' + str(away_score)\n",
    "    print(describe_text + result_text)"
   ]
  },
  {
   "cell_type": "code",
   "execution_count": 38,
   "metadata": {},
   "outputs": [
    {
     "name": "stdout",
     "output_type": "stream",
     "text": [
      "England Women's vs Sweden Women's has id: 69301\n"
     ]
    }
   ],
   "source": [
    "home_team_required =\"England Women's\"\n",
    "away_team_required =\"Sweden Women's\"\n",
    "\n",
    "for match in matches:\n",
    "    home_team_name=match['home_team']['home_team_name']\n",
    "    away_team_name=match['away_team']['away_team_name']\n",
    "    if (home_team_name==home_team_required) and (away_team_name==away_team_required):\n",
    "        match_id_required = match['match_id']\n",
    "print(home_team_required + ' vs ' + away_team_required + ' has id: ' + str(match_id_required))\n",
    "        "
   ]
  },
  {
   "cell_type": "code",
   "execution_count": null,
   "metadata": {},
   "outputs": [],
   "source": []
  }
 ],
 "metadata": {
  "interpreter": {
   "hash": "dcf965278f195a136976d355b96401bb3404efc416c0ad22530aa817d401987e"
  },
  "kernelspec": {
   "display_name": "Python 3.10.0 64-bit ('soccer': pyenv)",
   "language": "python",
   "name": "python3"
  },
  "language_info": {
   "codemirror_mode": {
    "name": "ipython",
    "version": 3
   },
   "file_extension": ".py",
   "mimetype": "text/x-python",
   "name": "python",
   "nbconvert_exporter": "python",
   "pygments_lexer": "ipython3",
   "version": "3.10.0"
  },
  "orig_nbformat": 4
 },
 "nbformat": 4,
 "nbformat_minor": 2
}
