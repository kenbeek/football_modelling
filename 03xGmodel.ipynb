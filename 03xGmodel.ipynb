{
 "cells": [
  {
   "cell_type": "code",
   "execution_count": 3,
   "metadata": {},
   "outputs": [],
   "source": [
    "from socceraction.data.wyscout import PublicWyscoutLoader"
   ]
  },
  {
   "cell_type": "code",
   "execution_count": 7,
   "metadata": {},
   "outputs": [],
   "source": [
    "wyscout = PublicWyscoutLoader(root=None, download=True)\n"
   ]
  },
  {
   "cell_type": "code",
   "execution_count": 8,
   "metadata": {},
   "outputs": [
    {
     "ename": "TypeError",
     "evalue": "PublicWyscoutLoader.events() missing 1 required positional argument: 'game_id'",
     "output_type": "error",
     "traceback": [
      "\u001b[0;31m---------------------------------------------------------------------------\u001b[0m",
      "\u001b[0;31mTypeError\u001b[0m                                 Traceback (most recent call last)",
      "\u001b[0;32m/var/folders/tj/210mgsf94f51kmvjq04yb70c0000gn/T/ipykernel_31343/829575261.py\u001b[0m in \u001b[0;36m<module>\u001b[0;34m\u001b[0m\n\u001b[1;32m      1\u001b[0m \u001b[0mcompetitions\u001b[0m \u001b[0;34m=\u001b[0m \u001b[0mwyscout\u001b[0m\u001b[0;34m.\u001b[0m\u001b[0mcompetitions\u001b[0m\u001b[0;34m(\u001b[0m\u001b[0;34m)\u001b[0m\u001b[0;34m\u001b[0m\u001b[0;34m\u001b[0m\u001b[0m\n\u001b[0;32m----> 2\u001b[0;31m \u001b[0mevents\u001b[0m \u001b[0;34m=\u001b[0m \u001b[0mwyscout\u001b[0m\u001b[0;34m.\u001b[0m\u001b[0mevents\u001b[0m\u001b[0;34m(\u001b[0m\u001b[0;34m)\u001b[0m\u001b[0;34m\u001b[0m\u001b[0;34m\u001b[0m\u001b[0m\n\u001b[0m\u001b[1;32m      3\u001b[0m \u001b[0mgames\u001b[0m \u001b[0;34m=\u001b[0m \u001b[0mwyscout\u001b[0m\u001b[0;34m.\u001b[0m\u001b[0mgames\u001b[0m\u001b[0;34m(\u001b[0m\u001b[0;34m)\u001b[0m\u001b[0;34m\u001b[0m\u001b[0;34m\u001b[0m\u001b[0m\n\u001b[1;32m      4\u001b[0m \u001b[0mplayers\u001b[0m \u001b[0;34m=\u001b[0m \u001b[0mwyscout\u001b[0m\u001b[0;34m.\u001b[0m\u001b[0mplayers\u001b[0m\u001b[0;34m(\u001b[0m\u001b[0;34m)\u001b[0m\u001b[0;34m\u001b[0m\u001b[0;34m\u001b[0m\u001b[0m\n\u001b[1;32m      5\u001b[0m \u001b[0mteams\u001b[0m \u001b[0;34m=\u001b[0m \u001b[0mwyscout\u001b[0m\u001b[0;34m.\u001b[0m\u001b[0mteams\u001b[0m\u001b[0;34m(\u001b[0m\u001b[0;34m)\u001b[0m\u001b[0;34m\u001b[0m\u001b[0;34m\u001b[0m\u001b[0m\n",
      "\u001b[0;31mTypeError\u001b[0m: PublicWyscoutLoader.events() missing 1 required positional argument: 'game_id'"
     ]
    }
   ],
   "source": [
    "competitions = wyscout.competitions()\n",
    "events = wyscout.events()\n",
    "games = wyscout.games()\n",
    "players = wyscout.players()\n",
    "teams = wyscout.teams()\n"
   ]
  },
  {
   "cell_type": "code",
   "execution_count": null,
   "metadata": {},
   "outputs": [],
   "source": []
  }
 ],
 "metadata": {
  "interpreter": {
   "hash": "dcf965278f195a136976d355b96401bb3404efc416c0ad22530aa817d401987e"
  },
  "kernelspec": {
   "display_name": "Python 3.10.0 64-bit ('soccer': pyenv)",
   "language": "python",
   "name": "python3"
  },
  "language_info": {
   "codemirror_mode": {
    "name": "ipython",
    "version": 3
   },
   "file_extension": ".py",
   "mimetype": "text/x-python",
   "name": "python",
   "nbconvert_exporter": "python",
   "pygments_lexer": "ipython3",
   "version": "3.10.0"
  },
  "orig_nbformat": 4
 },
 "nbformat": 4,
 "nbformat_minor": 2
}
