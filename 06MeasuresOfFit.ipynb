{
 "cells": [
  {
   "cell_type": "code",
   "execution_count": null,
   "metadata": {},
   "outputs": [],
   "source": [
    "import pandas as pd\n",
    "import numpy as np\n",
    "import json\n",
    "\n",
    "#Plotting\n",
    "import matplotlib.pyplot as plt\n",
    "\n",
    "#Statistical fitting of models\n",
    "import statsmodels.api as sm\n",
    "import statsmodels.formula.api as smf\n",
    "\n",
    "# the following two lines of code make sure that imported libraries are immediately reloaded when the code changes, without restarting the kernel.\n",
    "# This is very useful for the functions I write myself in the helper_functions.py file.\n",
    "%load_ext autoreload\n",
    "%autoreload 2"
   ]
  },
  {
   "cell_type": "code",
   "execution_count": null,
   "metadata": {},
   "outputs": [],
   "source": [
    "from football_modelling.data import load_wyscout_match_data\n",
    "\n",
    "shots_model = load_wyscout_match_data()\n",
    "goals_only=shots_model[shots_model['Goal']==1]"
   ]
  },
  {
   "cell_type": "code",
   "execution_count": null,
   "metadata": {},
   "outputs": [],
   "source": [
    "null_model = smf.glm(formula=\"Goal ~ 1 \", data=shots_model, \n",
    "                           family=sm.families.Binomial()).fit()\n",
    "1-test_model.llf/null_model.llf\n"
   ]
  },
  {
   "cell_type": "code",
   "execution_count": null,
   "metadata": {},
   "outputs": [],
   "source": [
    "numobs=100\n",
    "TP=np.zeros(numobs)\n",
    "FP=np.zeros(numobs)\n",
    "TN=np.zeros(numobs)\n",
    "FN=np.zeros(numobs)"
   ]
  },
  {
   "cell_type": "code",
   "execution_count": null,
   "metadata": {},
   "outputs": [],
   "source": [
    "for i,threshold in enumerate(np.arange(0,1,1/numobs)):\n",
    "    for j,shot in shots_model.iterrows():\n",
    "        if (shot['Goal']==1): \n",
    "            if(shot['xG']>threshold):\n",
    "                TP[i] = TP[i] + 1\n",
    "            else:\n",
    "                FN[i] = FN[i] + 1\n",
    "        if (shot['Goal']==0): \n",
    "            if(shot['xG']>threshold):\n",
    "                FP[i] = FP[i] + 1\n",
    "            else:\n",
    "                TN[i] = TN[i] + 1\n",
    "     "
   ]
  },
  {
   "cell_type": "code",
   "execution_count": null,
   "metadata": {},
   "outputs": [],
   "source": [
    "fig,ax=plt.subplots(num=1)\n",
    "ax.plot(FP/(FP+TN), TP/(TP+FN), color='black')\n",
    "ax.plot([0,1], [0,1], linestyle='dotted', color='black')\n",
    "ax.set_ylabel(\"Predicted to score and did TP/(TP+FN))\")\n",
    "ax.set_xlabel(\"Predicted to score but didn't FP/(FP+TN)\")\n",
    "plt.ylim((0.00,1.00))\n",
    "plt.xlim((0.00,1.00))\n",
    "ax.spines['top'].set_visible(False)\n",
    "ax.spines['right'].set_visible(False)           \n",
    "fig.savefig('Output/ROC_' + model  + '.pdf', dpi=None, bbox_inches=\"tight\")   "
   ]
  }
 ],
 "metadata": {
  "language_info": {
   "name": "python"
  },
  "orig_nbformat": 4
 },
 "nbformat": 4,
 "nbformat_minor": 2
}
