{
 "cells": [
  {
   "cell_type": "code",
   "execution_count": 9,
   "metadata": {},
   "outputs": [],
   "source": [
    "#Make a shot map and a pass map using Statsbomb data\n",
    "#Set match id in match_id_required.\n",
    "\n",
    "#Function to draw the pitch\n",
    "import matplotlib.pyplot as plt\n",
    "import numpy as np\n",
    "import json\n",
    "from pathlib import Path\n",
    "\n",
    "#Size of the pitch in yards (!!!)\n",
    "pitchLengthX=120\n",
    "pitchWidthY=80\n",
    "\n",
    "#ID for England vs Sweden Womens World Cup\n",
    "match_id_required = 69301\n",
    "home_team_required =\"England Women's\"\n",
    "away_team_required =\"Sweden Women's\"\n",
    "\n",
    "# Load in the data\n",
    "# I took this from https://znstrider.github.io/2018-11-11-Getting-Started-with-StatsBomb-Data/\n",
    "file_name=str(match_id_required)+'.json'\n",
    "\n",
    "data_dir = Path('/Users/thomas/Documents/data/football')\n",
    "statsbomb_dir = data_dir.joinpath('open-data/data')\n"
   ]
  },
  {
   "cell_type": "code",
   "execution_count": 13,
   "metadata": {},
   "outputs": [],
   "source": [
    "#Load in all match events \n",
    "with open(statsbomb_dir.joinpath('events').joinpath(file_name)) as data_file:\n",
    "    #print (mypath+'events/'+file)\n",
    "    data = json.load(data_file)\n",
    "\n",
    "#get the nested structure into a dataframe \n",
    "#store the dataframe in a dictionary with the match id as key (remove '.json' from string)\n",
    "from pandas import json_normalize\n",
    "df = json_normalize(data, sep = \"_\").assign(match_id = file_name[:-5])\n",
    "\n",
    "\n",
    "#A dataframe of shots\n",
    "shots = df.loc[df['type_name'] == 'Shot'].set_index('id')\n",
    "    \n"
   ]
  },
  {
   "cell_type": "code",
   "execution_count": null,
   "metadata": {},
   "outputs": [],
   "source": [
    "#Draw the pitch\n",
    "from FCPython import createPitch\n",
    "(fig,ax) = createPitch(pitchLengthX,pitchWidthY,'yards','gray')\n",
    "\n",
    "#Plot the shots\n",
    "for i,shot in shots.iterrows():\n",
    "    x=shot['location'][0]\n",
    "    y=shot['location'][1]\n",
    "    \n",
    "    goal=shot['shot_outcome_name']=='Goal'\n",
    "    team_name=shot['team_name']\n",
    "    \n",
    "    circleSize=2\n",
    "    #circleSize=np.sqrt(shot['shot_statsbomb_xg'])*12\n",
    "\n",
    "    if (team_name==home_team_required):\n",
    "        if goal:\n",
    "            shotCircle=plt.Circle((x,pitchWidthY-y),circleSize,color=\"red\")\n",
    "            plt.text((x+1),pitchWidthY-y+1,shot['player_name']) \n",
    "        else:\n",
    "            shotCircle=plt.Circle((x,pitchWidthY-y),circleSize,color=\"red\")     \n",
    "            shotCircle.set_alpha(.2)\n",
    "    elif (team_name==away_team_required):\n",
    "        if goal:\n",
    "            shotCircle=plt.Circle((pitchLengthX-x,y),circleSize,color=\"blue\") \n",
    "            plt.text((pitchLengthX-x+1),y+1,shot['player_name']) \n",
    "        else:\n",
    "            shotCircle=plt.Circle((pitchLengthX-x,y),circleSize,color=\"blue\")      \n",
    "            shotCircle.set_alpha(.2)\n",
    "    ax.add_patch(shotCircle)\n",
    "    \n",
    "    \n",
    "plt.text(5,75,away_team_required + ' shots') \n",
    "plt.text(80,75,home_team_required + ' shots') \n",
    "     \n",
    "fig.set_size_inches(10, 7)\n",
    "fig.savefig('Output/shots.pdf', dpi=100) \n",
    "plt.show()\n",
    "\n",
    "#Exercise: \n",
    "#1, Create a dataframe of passes which contains all the passes in the match\n",
    "#2, Plot the start point of every Sweden pass. Attacking left to right.\n",
    "#3, Plot only passes made by Caroline Seger (she is Sara Caroline Seger in the database)\n",
    "#4, Plot arrows to show where the passes we\n",
    "\n"
   ]
  }
 ],
 "metadata": {
  "interpreter": {
   "hash": "dcf965278f195a136976d355b96401bb3404efc416c0ad22530aa817d401987e"
  },
  "kernelspec": {
   "display_name": "Python 3.10.0 64-bit ('soccer': pyenv)",
   "language": "python",
   "name": "python3"
  },
  "language_info": {
   "codemirror_mode": {
    "name": "ipython",
    "version": 3
   },
   "file_extension": ".py",
   "mimetype": "text/x-python",
   "name": "python",
   "nbconvert_exporter": "python",
   "pygments_lexer": "ipython3",
   "version": "3.10.0"
  },
  "orig_nbformat": 4
 },
 "nbformat": 4,
 "nbformat_minor": 2
}
