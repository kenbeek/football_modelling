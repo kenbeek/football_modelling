{
 "cells": [
  {
   "cell_type": "code",
   "execution_count": 1,
   "metadata": {},
   "outputs": [
    {
     "name": "stderr",
     "output_type": "stream",
     "text": [
      "/Users/thomas/.pyenv/versions/3.10.0/envs/soccer/lib/python3.10/site-packages/pandas/compat/__init__.py:124: UserWarning: Could not import the lzma module. Your installed Python is incomplete. Attempting to use lzma compression will result in a RuntimeError.\n",
      "  warnings.warn(msg)\n"
     ]
    }
   ],
   "source": [
    "import pandas as pd\n",
    "import numpy as np\n",
    "import matplotlib.pyplot as plt\n",
    "import statsmodels.api as sm\n",
    "import statsmodels.formula.api as smf\n"
   ]
  },
  {
   "cell_type": "code",
   "execution_count": 2,
   "metadata": {},
   "outputs": [],
   "source": [
    "minutes_played = np.array([120, 452, 185, 708, 340, 561])\n",
    "goals_scored = np.array([1, 6, 3, 7, 3, 5])\n"
   ]
  },
  {
   "cell_type": "code",
   "execution_count": 3,
   "metadata": {},
   "outputs": [],
   "source": [
    "# Set up dataframe\n",
    "minutes_model = pd.DataFrame()\n",
    "minutes_model = minutes_model.assign(minutes=minutes_played)\n",
    "minutes_model = minutes_model.assign(goals=goals_scored)\n"
   ]
  },
  {
   "cell_type": "code",
   "execution_count": 4,
   "metadata": {},
   "outputs": [
    {
     "data": {
      "text/html": [
       "<div>\n",
       "<style scoped>\n",
       "    .dataframe tbody tr th:only-of-type {\n",
       "        vertical-align: middle;\n",
       "    }\n",
       "\n",
       "    .dataframe tbody tr th {\n",
       "        vertical-align: top;\n",
       "    }\n",
       "\n",
       "    .dataframe thead th {\n",
       "        text-align: right;\n",
       "    }\n",
       "</style>\n",
       "<table border=\"1\" class=\"dataframe\">\n",
       "  <thead>\n",
       "    <tr style=\"text-align: right;\">\n",
       "      <th></th>\n",
       "      <th>minutes</th>\n",
       "      <th>goals</th>\n",
       "    </tr>\n",
       "  </thead>\n",
       "  <tbody>\n",
       "    <tr>\n",
       "      <th>0</th>\n",
       "      <td>120</td>\n",
       "      <td>1</td>\n",
       "    </tr>\n",
       "    <tr>\n",
       "      <th>1</th>\n",
       "      <td>452</td>\n",
       "      <td>6</td>\n",
       "    </tr>\n",
       "    <tr>\n",
       "      <th>2</th>\n",
       "      <td>185</td>\n",
       "      <td>3</td>\n",
       "    </tr>\n",
       "    <tr>\n",
       "      <th>3</th>\n",
       "      <td>708</td>\n",
       "      <td>7</td>\n",
       "    </tr>\n",
       "    <tr>\n",
       "      <th>4</th>\n",
       "      <td>340</td>\n",
       "      <td>3</td>\n",
       "    </tr>\n",
       "    <tr>\n",
       "      <th>5</th>\n",
       "      <td>561</td>\n",
       "      <td>5</td>\n",
       "    </tr>\n",
       "  </tbody>\n",
       "</table>\n",
       "</div>"
      ],
      "text/plain": [
       "   minutes  goals\n",
       "0      120      1\n",
       "1      452      6\n",
       "2      185      3\n",
       "3      708      7\n",
       "4      340      3\n",
       "5      561      5"
      ]
     },
     "execution_count": 4,
     "metadata": {},
     "output_type": "execute_result"
    }
   ],
   "source": [
    "minutes_model\n"
   ]
  },
  {
   "cell_type": "code",
   "execution_count": 7,
   "metadata": {},
   "outputs": [
    {
     "data": {
      "text/plain": [
       "(0.0, 8.0)"
      ]
     },
     "execution_count": 7,
     "metadata": {},
     "output_type": "execute_result"
    },
    {
     "data": {
      "image/png": "[encoded data removed]",
      "text/plain": [
       "<Figure size 432x288 with 1 Axes>"
      ]
     },
     "metadata": {
      "needs_background": "light"
     },
     "output_type": "display_data"
    }
   ],
   "source": [
    "fig, ax = plt.subplots(num=1)\n",
    "ax.plot(\n",
    "    minutes_played,\n",
    "    goals_scored,\n",
    "    linestyle=\"none\",\n",
    "    marker=\".\",\n",
    "    markersize=12,\n",
    "    color=\"black\",\n",
    ")\n",
    "ax.set_ylabel(\"Goals scored\")\n",
    "ax.set_xlabel(\"Minutes played\")\n",
    "ax.spines[\"top\"].set_visible(False)\n",
    "ax.spines[\"right\"].set_visible(False)\n",
    "plt.xlim((0, 750))\n",
    "plt.ylim((0, 8))\n"
   ]
  },
  {
   "cell_type": "code",
   "execution_count": 8,
   "metadata": {},
   "outputs": [
    {
     "name": "stdout",
     "output_type": "stream",
     "text": [
      "                                 OLS Regression Results                                \n",
      "=======================================================================================\n",
      "Dep. Variable:           goals_scored   R-squared (uncentered):                   0.969\n",
      "Model:                            OLS   Adj. R-squared (uncentered):              0.963\n",
      "Method:                 Least Squares   F-statistic:                              156.1\n",
      "Date:                Wed, 05 Jan 2022   Prob (F-statistic):                    5.83e-05\n",
      "Time:                        16:28:47   Log-Likelihood:                         -7.2998\n",
      "No. Observations:                   6   AIC:                                      16.60\n",
      "Df Residuals:                       5   BIC:                                      16.39\n",
      "Df Model:                           1                                                  \n",
      "Covariance Type:            nonrobust                                                  \n",
      "==================================================================================\n",
      "                     coef    std err          t      P>|t|      [0.025      0.975]\n",
      "----------------------------------------------------------------------------------\n",
      "minutes_played     0.0103      0.001     12.495      0.000       0.008       0.012\n",
      "==============================================================================\n",
      "Omnibus:                          nan   Durbin-Watson:                   1.148\n",
      "Prob(Omnibus):                    nan   Jarque-Bera (JB):                0.840\n",
      "Skew:                           0.586   Prob(JB):                        0.657\n",
      "Kurtosis:                       1.590   Cond. No.                         1.00\n",
      "==============================================================================\n",
      "\n",
      "Notes:\n",
      "[1] R² is computed without centering (uncentered) since the model does not contain a constant.\n",
      "[2] Standard Errors assume that the covariance matrix of the errors is correctly specified.\n"
     ]
    },
    {
     "name": "stderr",
     "output_type": "stream",
     "text": [
      "/Users/thomas/.pyenv/versions/3.10.0/envs/soccer/lib/python3.10/site-packages/statsmodels/stats/stattools.py:74: ValueWarning: omni_normtest is not valid with less than 8 observations; 6 samples were given.\n",
      "  warn(\"omni_normtest is not valid with less than 8 observations; %i \"\n"
     ]
    }
   ],
   "source": [
    "model_fit = smf.ols(\n",
    "    formula=\"goals_scored ~ minutes_played -1 \", data=minutes_model\n",
    ").fit()\n",
    "print(model_fit.summary())\n",
    "[b] = model_fit.params\n"
   ]
  },
  {
   "cell_type": "code",
   "execution_count": 14,
   "metadata": {},
   "outputs": [
    {
     "data": {
      "image/png": "[encoded data removed]",
      "text/plain": [
       "<Figure size 432x288 with 1 Axes>"
      ]
     },
     "metadata": {
      "needs_background": "light"
     },
     "output_type": "display_data"
    }
   ],
   "source": [
    "a = 0\n",
    "x = np.arange(800, step=0.1)\n",
    "y = a + b * x\n",
    "fig, ax = plt.subplots(num=1)\n",
    "ax.plot(\n",
    "    minutes_played,\n",
    "    goals_scored,\n",
    "    linestyle=\"none\",\n",
    "    marker=\".\",\n",
    "    markersize=12,\n",
    "    color=\"black\",\n",
    ")\n",
    "ax.plot(\n",
    "    minutes_played,\n",
    "    goals_scored,\n",
    "    linestyle=\"none\",\n",
    "    marker=\".\",\n",
    "    markersize=12,\n",
    "    color=\"black\",\n",
    ")\n",
    "ax.plot(x, y, color=\"black\")\n",
    "ax.set_ylabel(\"Goals scored\")\n",
    "ax.set_xlabel(\"Minutes played\")\n",
    "ax.spines[\"top\"].set_visible(False)\n",
    "ax.spines[\"right\"].set_visible(False)\n",
    "plt.xlim((0, 750))\n",
    "plt.ylim((0, 8))\n",
    "for i, mp in enumerate(minutes_played):\n",
    "    ax.plot([mp, mp], [goals_scored[i], a + b * mp], color=\"red\")\n"
   ]
  }
 ],
 "metadata": {
  "interpreter": {
   "hash": "dcf965278f195a136976d355b96401bb3404efc416c0ad22530aa817d401987e"
  },
  "kernelspec": {
   "display_name": "Python 3.10.0 64-bit ('soccer': pyenv)",
   "language": "python",
   "name": "python3"
  },
  "language_info": {
   "codemirror_mode": {
    "name": "ipython",
    "version": 3
   },
   "file_extension": ".py",
   "mimetype": "text/x-python",
   "name": "python",
   "nbconvert_exporter": "python",
   "pygments_lexer": "ipython3",
   "version": "3.10.0"
  },
  "orig_nbformat": 4
 },
 "nbformat": 4,
 "nbformat_minor": 2
}
