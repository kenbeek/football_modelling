{
 "cells": [
  {
   "cell_type": "code",
   "execution_count": 23,
   "metadata": {},
   "outputs": [],
   "source": [
    "import matplotlib.pyplot as plt\n",
    "import numpy as np\n",
    "from pandas.io.json import json_normalize\n",
    "from football_modelling.plotting import createPitch\n",
    "import json\n",
    "from pathlib import Path\n",
    "from dotenv import load_dotenv, find_dotenv\n",
    "import os\n"
   ]
  },
  {
   "cell_type": "code",
   "execution_count": 22,
   "metadata": {},
   "outputs": [
    {
     "data": {
      "text/plain": [
       "True"
      ]
     },
     "execution_count": 22,
     "metadata": {},
     "output_type": "execute_result"
    }
   ],
   "source": [
    "dotenv_location = find_dotenv()\n",
    "load_dotenv(dotenv_location)\n"
   ]
  },
  {
   "cell_type": "code",
   "execution_count": 2,
   "metadata": {},
   "outputs": [],
   "source": [
    "# Size of the pitch in yards (!!!)\n",
    "pitchLengthX = 120\n",
    "pitchWidthY = 80\n"
   ]
  },
  {
   "cell_type": "code",
   "execution_count": 3,
   "metadata": {},
   "outputs": [],
   "source": [
    "# The team we are interested in\n",
    "# team_required =\"United States Women's\"\n",
    "team_required = \"England Women's\"\n",
    "# team_required =\"Sweden Women's\"\n",
    "# team_required =\"Germany Women's\"\n"
   ]
  },
  {
   "cell_type": "code",
   "execution_count": 27,
   "metadata": {},
   "outputs": [],
   "source": [
    "# Get the list of matches\n",
    "competition_id = 72\n",
    "data_dir = Path(os.path.expanduser(os.getenv(\"DATA_ROOT_DIR\")))\n",
    "statsbomb_dir = data_dir.joinpath(\"open-data/data\")\n",
    "\n",
    "# Load the list of matches for this competition\n",
    "matches_dir = statsbomb_dir.joinpath(f\"matches/{competition_id}/30.json\")\n",
    "with open(matches_dir) as f:\n",
    "    matches = json.load(f)\n"
   ]
  },
  {
   "cell_type": "code",
   "execution_count": 28,
   "metadata": {},
   "outputs": [
    {
     "data": {
      "text/plain": [
       "[69301, 22936, 68337, 22962, 68362, 69199, 69258]"
      ]
     },
     "execution_count": 28,
     "metadata": {},
     "output_type": "execute_result"
    }
   ],
   "source": [
    "# Find the matches they played\n",
    "match_id_required = []\n",
    "for match in matches:\n",
    "    home_team_name = match[\"home_team\"][\"home_team_name\"]\n",
    "    away_team_name = match[\"away_team\"][\"away_team_name\"]\n",
    "    if (home_team_name == team_required) or (away_team_name == team_required):\n",
    "        match_id_required.append(match[\"match_id\"])\n",
    "\n",
    "match_id_required\n"
   ]
  },
  {
   "cell_type": "code",
   "execution_count": 31,
   "metadata": {},
   "outputs": [
    {
     "name": "stderr",
     "output_type": "stream",
     "text": [
      "/var/folders/nf/m6vxkd_s12jc7p45psfkvpxm0000gn/T/ipykernel_19425/1272950133.py:9: FutureWarning: pandas.io.json.json_normalize is deprecated, use pandas.json_normalize instead\n",
      "  df = json_normalize(data, sep = \"_\").assign(match_id = file_name[:-5])\n"
     ]
    },
    {
     "name": "stdout",
     "output_type": "stream",
     "text": [
      "Match: 69301. Number of danger passes is: 25\n",
      "Match: 22936. Number of danger passes is: 40\n",
      "Match: 68337. Number of danger passes is: 42\n",
      "Match: 22962. Number of danger passes is: 42\n",
      "Match: 68362. Number of danger passes is: 22\n",
      "Match: 69199. Number of danger passes is: 42\n",
      "Match: 69258. Number of danger passes is: 18\n"
     ]
    }
   ],
   "source": [
    "# Find the passes for each match\n",
    "for ic, match_id in enumerate(match_id_required):\n",
    "\n",
    "    # Load in all match events\n",
    "\n",
    "    file_name = str(match_id) + \".json\"\n",
    "    with open(statsbomb_dir.joinpath(\"events\").joinpath(file_name)) as data_file:\n",
    "        data = json.load(data_file)\n",
    "    df = json_normalize(data, sep=\"_\").assign(match_id=file_name[:-5])\n",
    "    team_actions = df[\"team_name\"] == team_required\n",
    "    df = df[team_actions]\n",
    "\n",
    "    # A dataframe of passes\n",
    "    passes_match = df.loc[df[\"type_name\"] == \"Pass\"].set_index(\"id\")\n",
    "    # A dataframe of shots\n",
    "    shots_match = df.loc[df[\"type_name\"] == \"Shot\"].set_index(\"id\")\n",
    "\n",
    "    # Find shot times in seconds\n",
    "    # This should be adjusted to account for overlapping halves of the match.\n",
    "    shot_times = shots_match[\"minute\"] * 60 + shots_match[\"second\"]\n",
    "    shot_window = 15\n",
    "    shot_start = shot_times - shot_window\n",
    "    pass_times = passes_match[\"minute\"] * 60 + passes_match[\"second\"]\n",
    "\n",
    "    # Check with passes are whitin [shot_window] seconds of a shot\n",
    "    # Idea from this code came from https://stackoverflow.com/questions/38201057/efficiently-check-if-value-is-present-in-any-of-given-ranges\n",
    "    def in_range(pass_time, start, finish):\n",
    "        return True in ((start < pass_time) & (pass_time < finish)).unique()\n",
    "\n",
    "    pass_to_shot = pass_times.apply(lambda x: in_range(x, shot_start, shot_times))\n",
    "\n",
    "    # Exclude corners\n",
    "    iscorner = passes_match[\"pass_type_name\"] == \"Corner\"\n",
    "\n",
    "    danger_passes = passes_match[np.logical_and(pass_to_shot, np.logical_not(iscorner))]\n",
    "\n",
    "    if ic == 0:\n",
    "        passes = danger_passes\n",
    "    else:\n",
    "        passes = passes.append(danger_passes)\n",
    "\n",
    "    print(\n",
    "        \"Match: \"\n",
    "        + str(match_id)\n",
    "        + \". Number of danger passes is: \"\n",
    "        + str(len(danger_passes))\n",
    "    )\n"
   ]
  }
 ],
 "metadata": {
  "interpreter": {
   "hash": "dcf965278f195a136976d355b96401bb3404efc416c0ad22530aa817d401987e"
  },
  "kernelspec": {
   "display_name": "Python 3.10.0 64-bit ('soccer': pyenv)",
   "language": "python",
   "name": "python3"
  },
  "language_info": {
   "codemirror_mode": {
    "name": "ipython",
    "version": 3
   },
   "file_extension": ".py",
   "mimetype": "text/x-python",
   "name": "python",
   "nbconvert_exporter": "python",
   "pygments_lexer": "ipython3",
   "version": "3.10.0"
  },
  "orig_nbformat": 4
 },
 "nbformat": 4,
 "nbformat_minor": 2
}
